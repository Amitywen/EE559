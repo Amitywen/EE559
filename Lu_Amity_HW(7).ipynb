{
 "cells": [
  {
   "cell_type": "markdown",
   "metadata": {},
   "source": [
    "| Submitted By    | Amity Lu        |\n",
    "| --------------- | --------------- |\n",
    "| Github Username | Amitywen        |\n"
   ]
  },
  {
   "cell_type": "code",
   "execution_count": 2,
   "metadata": {},
   "outputs": [],
   "source": [
    "import pandas as pd\n",
    "import seaborn as sns\n",
    "import matplotlib.pyplot as plt\n",
    "import numpy as np\n",
    "from sklearn.model_selection import train_test_split\n",
    "from metric_learn import MLKR\n",
    "from sklearn.neural_network import MLPRegressor\n",
    "from sklearn.model_selection import StratifiedKFold\n",
    "from sklearn.model_selection import KFold, cross_val_score\n",
    "from sklearn.linear_model import LinearRegression\n",
    "from sklearn.preprocessing import StandardScaler"
   ]
  },
  {
   "cell_type": "code",
   "execution_count": 3,
   "metadata": {},
   "outputs": [
    {
     "data": {
      "text/html": [
       "<div>\n",
       "<style scoped>\n",
       "    .dataframe tbody tr th:only-of-type {\n",
       "        vertical-align: middle;\n",
       "    }\n",
       "\n",
       "    .dataframe tbody tr th {\n",
       "        vertical-align: top;\n",
       "    }\n",
       "\n",
       "    .dataframe thead th {\n",
       "        text-align: right;\n",
       "    }\n",
       "</style>\n",
       "<table border=\"1\" class=\"dataframe\">\n",
       "  <thead>\n",
       "    <tr style=\"text-align: right;\">\n",
       "      <th></th>\n",
       "      <th>subject#</th>\n",
       "      <th>age</th>\n",
       "      <th>sex</th>\n",
       "      <th>test_time</th>\n",
       "      <th>motor_UPDRS</th>\n",
       "      <th>total_UPDRS</th>\n",
       "      <th>Jitter(%)</th>\n",
       "      <th>Jitter(Abs)</th>\n",
       "      <th>Jitter:RAP</th>\n",
       "      <th>Jitter:PPQ5</th>\n",
       "      <th>...</th>\n",
       "      <th>Shimmer(dB)</th>\n",
       "      <th>Shimmer:APQ3</th>\n",
       "      <th>Shimmer:APQ5</th>\n",
       "      <th>Shimmer:APQ11</th>\n",
       "      <th>Shimmer:DDA</th>\n",
       "      <th>NHR</th>\n",
       "      <th>HNR</th>\n",
       "      <th>RPDE</th>\n",
       "      <th>DFA</th>\n",
       "      <th>PPE</th>\n",
       "    </tr>\n",
       "  </thead>\n",
       "  <tbody>\n",
       "    <tr>\n",
       "      <th>0</th>\n",
       "      <td>1</td>\n",
       "      <td>72</td>\n",
       "      <td>0</td>\n",
       "      <td>5.6431</td>\n",
       "      <td>28.199</td>\n",
       "      <td>34.398</td>\n",
       "      <td>0.00662</td>\n",
       "      <td>0.000034</td>\n",
       "      <td>0.00401</td>\n",
       "      <td>0.00317</td>\n",
       "      <td>...</td>\n",
       "      <td>0.230</td>\n",
       "      <td>0.01438</td>\n",
       "      <td>0.01309</td>\n",
       "      <td>0.01662</td>\n",
       "      <td>0.04314</td>\n",
       "      <td>0.014290</td>\n",
       "      <td>21.640</td>\n",
       "      <td>0.41888</td>\n",
       "      <td>0.54842</td>\n",
       "      <td>0.16006</td>\n",
       "    </tr>\n",
       "    <tr>\n",
       "      <th>1</th>\n",
       "      <td>1</td>\n",
       "      <td>72</td>\n",
       "      <td>0</td>\n",
       "      <td>12.6660</td>\n",
       "      <td>28.447</td>\n",
       "      <td>34.894</td>\n",
       "      <td>0.00300</td>\n",
       "      <td>0.000017</td>\n",
       "      <td>0.00132</td>\n",
       "      <td>0.00150</td>\n",
       "      <td>...</td>\n",
       "      <td>0.179</td>\n",
       "      <td>0.00994</td>\n",
       "      <td>0.01072</td>\n",
       "      <td>0.01689</td>\n",
       "      <td>0.02982</td>\n",
       "      <td>0.011112</td>\n",
       "      <td>27.183</td>\n",
       "      <td>0.43493</td>\n",
       "      <td>0.56477</td>\n",
       "      <td>0.10810</td>\n",
       "    </tr>\n",
       "    <tr>\n",
       "      <th>2</th>\n",
       "      <td>1</td>\n",
       "      <td>72</td>\n",
       "      <td>0</td>\n",
       "      <td>19.6810</td>\n",
       "      <td>28.695</td>\n",
       "      <td>35.389</td>\n",
       "      <td>0.00481</td>\n",
       "      <td>0.000025</td>\n",
       "      <td>0.00205</td>\n",
       "      <td>0.00208</td>\n",
       "      <td>...</td>\n",
       "      <td>0.181</td>\n",
       "      <td>0.00734</td>\n",
       "      <td>0.00844</td>\n",
       "      <td>0.01458</td>\n",
       "      <td>0.02202</td>\n",
       "      <td>0.020220</td>\n",
       "      <td>23.047</td>\n",
       "      <td>0.46222</td>\n",
       "      <td>0.54405</td>\n",
       "      <td>0.21014</td>\n",
       "    </tr>\n",
       "    <tr>\n",
       "      <th>3</th>\n",
       "      <td>1</td>\n",
       "      <td>72</td>\n",
       "      <td>0</td>\n",
       "      <td>25.6470</td>\n",
       "      <td>28.905</td>\n",
       "      <td>35.810</td>\n",
       "      <td>0.00528</td>\n",
       "      <td>0.000027</td>\n",
       "      <td>0.00191</td>\n",
       "      <td>0.00264</td>\n",
       "      <td>...</td>\n",
       "      <td>0.327</td>\n",
       "      <td>0.01106</td>\n",
       "      <td>0.01265</td>\n",
       "      <td>0.01963</td>\n",
       "      <td>0.03317</td>\n",
       "      <td>0.027837</td>\n",
       "      <td>24.445</td>\n",
       "      <td>0.48730</td>\n",
       "      <td>0.57794</td>\n",
       "      <td>0.33277</td>\n",
       "    </tr>\n",
       "    <tr>\n",
       "      <th>4</th>\n",
       "      <td>1</td>\n",
       "      <td>72</td>\n",
       "      <td>0</td>\n",
       "      <td>33.6420</td>\n",
       "      <td>29.187</td>\n",
       "      <td>36.375</td>\n",
       "      <td>0.00335</td>\n",
       "      <td>0.000020</td>\n",
       "      <td>0.00093</td>\n",
       "      <td>0.00130</td>\n",
       "      <td>...</td>\n",
       "      <td>0.176</td>\n",
       "      <td>0.00679</td>\n",
       "      <td>0.00929</td>\n",
       "      <td>0.01819</td>\n",
       "      <td>0.02036</td>\n",
       "      <td>0.011625</td>\n",
       "      <td>26.126</td>\n",
       "      <td>0.47188</td>\n",
       "      <td>0.56122</td>\n",
       "      <td>0.19361</td>\n",
       "    </tr>\n",
       "    <tr>\n",
       "      <th>...</th>\n",
       "      <td>...</td>\n",
       "      <td>...</td>\n",
       "      <td>...</td>\n",
       "      <td>...</td>\n",
       "      <td>...</td>\n",
       "      <td>...</td>\n",
       "      <td>...</td>\n",
       "      <td>...</td>\n",
       "      <td>...</td>\n",
       "      <td>...</td>\n",
       "      <td>...</td>\n",
       "      <td>...</td>\n",
       "      <td>...</td>\n",
       "      <td>...</td>\n",
       "      <td>...</td>\n",
       "      <td>...</td>\n",
       "      <td>...</td>\n",
       "      <td>...</td>\n",
       "      <td>...</td>\n",
       "      <td>...</td>\n",
       "      <td>...</td>\n",
       "    </tr>\n",
       "    <tr>\n",
       "      <th>5870</th>\n",
       "      <td>42</td>\n",
       "      <td>61</td>\n",
       "      <td>0</td>\n",
       "      <td>142.7900</td>\n",
       "      <td>22.485</td>\n",
       "      <td>33.485</td>\n",
       "      <td>0.00406</td>\n",
       "      <td>0.000031</td>\n",
       "      <td>0.00167</td>\n",
       "      <td>0.00168</td>\n",
       "      <td>...</td>\n",
       "      <td>0.160</td>\n",
       "      <td>0.00973</td>\n",
       "      <td>0.01133</td>\n",
       "      <td>0.01549</td>\n",
       "      <td>0.02920</td>\n",
       "      <td>0.025137</td>\n",
       "      <td>22.369</td>\n",
       "      <td>0.64215</td>\n",
       "      <td>0.55314</td>\n",
       "      <td>0.21367</td>\n",
       "    </tr>\n",
       "    <tr>\n",
       "      <th>5871</th>\n",
       "      <td>42</td>\n",
       "      <td>61</td>\n",
       "      <td>0</td>\n",
       "      <td>149.8400</td>\n",
       "      <td>21.988</td>\n",
       "      <td>32.988</td>\n",
       "      <td>0.00297</td>\n",
       "      <td>0.000025</td>\n",
       "      <td>0.00119</td>\n",
       "      <td>0.00147</td>\n",
       "      <td>...</td>\n",
       "      <td>0.215</td>\n",
       "      <td>0.01052</td>\n",
       "      <td>0.01277</td>\n",
       "      <td>0.01904</td>\n",
       "      <td>0.03157</td>\n",
       "      <td>0.011927</td>\n",
       "      <td>22.886</td>\n",
       "      <td>0.52598</td>\n",
       "      <td>0.56518</td>\n",
       "      <td>0.12621</td>\n",
       "    </tr>\n",
       "    <tr>\n",
       "      <th>5872</th>\n",
       "      <td>42</td>\n",
       "      <td>61</td>\n",
       "      <td>0</td>\n",
       "      <td>156.8200</td>\n",
       "      <td>21.495</td>\n",
       "      <td>32.495</td>\n",
       "      <td>0.00349</td>\n",
       "      <td>0.000025</td>\n",
       "      <td>0.00152</td>\n",
       "      <td>0.00187</td>\n",
       "      <td>...</td>\n",
       "      <td>0.244</td>\n",
       "      <td>0.01371</td>\n",
       "      <td>0.01456</td>\n",
       "      <td>0.01877</td>\n",
       "      <td>0.04112</td>\n",
       "      <td>0.017701</td>\n",
       "      <td>25.065</td>\n",
       "      <td>0.47792</td>\n",
       "      <td>0.57888</td>\n",
       "      <td>0.14157</td>\n",
       "    </tr>\n",
       "    <tr>\n",
       "      <th>5873</th>\n",
       "      <td>42</td>\n",
       "      <td>61</td>\n",
       "      <td>0</td>\n",
       "      <td>163.7300</td>\n",
       "      <td>21.007</td>\n",
       "      <td>32.007</td>\n",
       "      <td>0.00281</td>\n",
       "      <td>0.000020</td>\n",
       "      <td>0.00128</td>\n",
       "      <td>0.00151</td>\n",
       "      <td>...</td>\n",
       "      <td>0.131</td>\n",
       "      <td>0.00693</td>\n",
       "      <td>0.00870</td>\n",
       "      <td>0.01307</td>\n",
       "      <td>0.02078</td>\n",
       "      <td>0.007984</td>\n",
       "      <td>24.422</td>\n",
       "      <td>0.56865</td>\n",
       "      <td>0.56327</td>\n",
       "      <td>0.14204</td>\n",
       "    </tr>\n",
       "    <tr>\n",
       "      <th>5874</th>\n",
       "      <td>42</td>\n",
       "      <td>61</td>\n",
       "      <td>0</td>\n",
       "      <td>170.7300</td>\n",
       "      <td>20.513</td>\n",
       "      <td>31.513</td>\n",
       "      <td>0.00282</td>\n",
       "      <td>0.000021</td>\n",
       "      <td>0.00135</td>\n",
       "      <td>0.00166</td>\n",
       "      <td>...</td>\n",
       "      <td>0.171</td>\n",
       "      <td>0.00946</td>\n",
       "      <td>0.01154</td>\n",
       "      <td>0.01470</td>\n",
       "      <td>0.02839</td>\n",
       "      <td>0.008172</td>\n",
       "      <td>23.259</td>\n",
       "      <td>0.58608</td>\n",
       "      <td>0.57077</td>\n",
       "      <td>0.15336</td>\n",
       "    </tr>\n",
       "  </tbody>\n",
       "</table>\n",
       "<p>5875 rows × 22 columns</p>\n",
       "</div>"
      ],
      "text/plain": [
       "      subject#  age  sex  test_time  motor_UPDRS  total_UPDRS  Jitter(%)  \\\n",
       "0            1   72    0     5.6431       28.199       34.398    0.00662   \n",
       "1            1   72    0    12.6660       28.447       34.894    0.00300   \n",
       "2            1   72    0    19.6810       28.695       35.389    0.00481   \n",
       "3            1   72    0    25.6470       28.905       35.810    0.00528   \n",
       "4            1   72    0    33.6420       29.187       36.375    0.00335   \n",
       "...        ...  ...  ...        ...          ...          ...        ...   \n",
       "5870        42   61    0   142.7900       22.485       33.485    0.00406   \n",
       "5871        42   61    0   149.8400       21.988       32.988    0.00297   \n",
       "5872        42   61    0   156.8200       21.495       32.495    0.00349   \n",
       "5873        42   61    0   163.7300       21.007       32.007    0.00281   \n",
       "5874        42   61    0   170.7300       20.513       31.513    0.00282   \n",
       "\n",
       "      Jitter(Abs)  Jitter:RAP  Jitter:PPQ5  ...  Shimmer(dB)  Shimmer:APQ3  \\\n",
       "0        0.000034     0.00401      0.00317  ...        0.230       0.01438   \n",
       "1        0.000017     0.00132      0.00150  ...        0.179       0.00994   \n",
       "2        0.000025     0.00205      0.00208  ...        0.181       0.00734   \n",
       "3        0.000027     0.00191      0.00264  ...        0.327       0.01106   \n",
       "4        0.000020     0.00093      0.00130  ...        0.176       0.00679   \n",
       "...           ...         ...          ...  ...          ...           ...   \n",
       "5870     0.000031     0.00167      0.00168  ...        0.160       0.00973   \n",
       "5871     0.000025     0.00119      0.00147  ...        0.215       0.01052   \n",
       "5872     0.000025     0.00152      0.00187  ...        0.244       0.01371   \n",
       "5873     0.000020     0.00128      0.00151  ...        0.131       0.00693   \n",
       "5874     0.000021     0.00135      0.00166  ...        0.171       0.00946   \n",
       "\n",
       "      Shimmer:APQ5  Shimmer:APQ11  Shimmer:DDA       NHR     HNR     RPDE  \\\n",
       "0          0.01309        0.01662      0.04314  0.014290  21.640  0.41888   \n",
       "1          0.01072        0.01689      0.02982  0.011112  27.183  0.43493   \n",
       "2          0.00844        0.01458      0.02202  0.020220  23.047  0.46222   \n",
       "3          0.01265        0.01963      0.03317  0.027837  24.445  0.48730   \n",
       "4          0.00929        0.01819      0.02036  0.011625  26.126  0.47188   \n",
       "...            ...            ...          ...       ...     ...      ...   \n",
       "5870       0.01133        0.01549      0.02920  0.025137  22.369  0.64215   \n",
       "5871       0.01277        0.01904      0.03157  0.011927  22.886  0.52598   \n",
       "5872       0.01456        0.01877      0.04112  0.017701  25.065  0.47792   \n",
       "5873       0.00870        0.01307      0.02078  0.007984  24.422  0.56865   \n",
       "5874       0.01154        0.01470      0.02839  0.008172  23.259  0.58608   \n",
       "\n",
       "          DFA      PPE  \n",
       "0     0.54842  0.16006  \n",
       "1     0.56477  0.10810  \n",
       "2     0.54405  0.21014  \n",
       "3     0.57794  0.33277  \n",
       "4     0.56122  0.19361  \n",
       "...       ...      ...  \n",
       "5870  0.55314  0.21367  \n",
       "5871  0.56518  0.12621  \n",
       "5872  0.57888  0.14157  \n",
       "5873  0.56327  0.14204  \n",
       "5874  0.57077  0.15336  \n",
       "\n",
       "[5875 rows x 22 columns]"
      ]
     },
     "execution_count": 3,
     "metadata": {},
     "output_type": "execute_result"
    }
   ],
   "source": [
    "data =  pd.read_csv('parkinsons_updrs.data', sep=\",\")\n",
    "data"
   ]
  },
  {
   "cell_type": "code",
   "execution_count": 4,
   "metadata": {},
   "outputs": [
    {
     "name": "stdout",
     "output_type": "stream",
     "text": [
      "False\n"
     ]
    }
   ],
   "source": [
    "# check the data value\n",
    "print(data.isnull().values.any())\n"
   ]
  },
  {
   "cell_type": "code",
   "execution_count": 5,
   "metadata": {},
   "outputs": [],
   "source": [
    "df = data.drop(columns = 'subject#')\n",
    "df_X = data.drop(columns = ['motor_UPDRS','total_UPDRS'])\n",
    "df_mo = data['motor_UPDRS']\n",
    "df_to = data['total_UPDRS']\n",
    "\n",
    "feat = df_X.columns.tolist()\n",
    "\n",
    "# standarize the features\n",
    "# https://scikit-learn.org/stable/modules/generated/sklearn.preprocessing.StandardScaler.html#sklearn.preprocessing.StandardScaler.fit\n",
    "scaler = StandardScaler()\n",
    "df_X = scaler.fit_transform(df_X)"
   ]
  },
  {
   "cell_type": "markdown",
   "metadata": {},
   "source": [
    "## 4(b)"
   ]
  },
  {
   "cell_type": "code",
   "execution_count": 94,
   "metadata": {},
   "outputs": [],
   "source": [
    "# http://contrib.scikit-learn.org/metric-learn/generated/metric_learn.MLKR.html#%20metric-learn-mlkr\n",
    "# Decide the scoring: https://scikit-learn.org/stable/modules/model_evaluation.html#scoring-parameter\n",
    "# Example: http://contrib.scikit-learn.org/metric-learn/auto_examples/plot_metric_learning_examples.html#sphx-glr-auto-examples-plot-metric-learning-examples-py\n",
    "# https://scikit-learn.org/stable/modules/generated/sklearn.linear_model.LinearRegression.html#sklearn.linear_model.LinearRegression.score\n",
    "\n",
    "def ML(initA,p,):\n",
    "        \n",
    "        k_folds = KFold(n_splits = 5, shuffle = True)\n",
    "\n",
    "        # train motor_UPDRS\n",
    "        mlkr1 = MLKR(n_components = p, init=initA)\n",
    "        X_mlkr1 = mlkr1.fit_transform(df_X , df_mo)\n",
    "\n",
    "        # randomly choose 70% of the data as the training set\n",
    "        X_train_mo, X_test_mo, y_train_mo, y_test_mo = train_test_split(X_mlkr1, df_mo, test_size=0.3)\n",
    "        reg1 = LinearRegression()\n",
    "        print('for estimate motor_UPDRS')\n",
    "        scores = cross_val_score(reg1, X_train_mo, y_train_mo, cv = k_folds)\n",
    "        print(\"Average CV Score: \", scores.mean(), \"with\", len(scores), \"of CV Sores used\")\n",
    "        reg1 = reg1.fit(X_train_mo, y_train_mo)\n",
    "        print('test set R^2',reg1.score(X_test_mo, y_test_mo))\n",
    "\n",
    "\n",
    "        # train total_UPDRS\n",
    "        mlkr2 = MLKR(n_components = p, init=initA)\n",
    "        X_mlkr2 = mlkr2.fit_transform(df_X , df_to)\n",
    "\n",
    "        # randomly choose 70% of the data as the training set\n",
    "        X_train_to, X_test_to, y_train_to, y_test_to = train_test_split(X_mlkr2, df_to, test_size=0.3)\n",
    "        reg2 = LinearRegression()\n",
    "        print('for estimate total_UPDRS')\n",
    "        scores = cross_val_score(reg2,X_train_to, y_train_to, cv = k_folds)\n",
    "        print(\"Average CV Score: \", scores.mean(), \"with\", len(scores), \"of CV Sores used\")\n",
    "        reg2 = reg2.fit(X_train_to, y_train_to)\n",
    "        print('test set R^2', reg2.score(X_test_to, y_test_to))"
   ]
  },
  {
   "cell_type": "code",
   "execution_count": 95,
   "metadata": {},
   "outputs": [
    {
     "name": "stdout",
     "output_type": "stream",
     "text": [
      "init auto with, M =  5\n",
      "for estimate motor_UPDRS\n",
      "Average CV Score:  0.16351678402106842 with 5 of CV Sores used\n",
      "test set R^2 0.16011671904345492\n",
      "for estimate total_UPDRS\n",
      "Average CV Score:  0.184759235001632 with 5 of CV Sores used\n",
      "test set R^2 0.2042846397046557\n",
      "init auto with, M =  10\n",
      "for estimate motor_UPDRS\n",
      "Average CV Score:  0.21298433696293112 with 5 of CV Sores used\n",
      "test set R^2 0.1823625381205406\n",
      "for estimate total_UPDRS\n",
      "Average CV Score:  0.22859250417332905 with 5 of CV Sores used\n",
      "test set R^2 0.24609317820083154\n",
      "init auto with, M =  15\n",
      "for estimate motor_UPDRS\n",
      "Average CV Score:  0.19904786274101707 with 5 of CV Sores used\n",
      "test set R^2 0.21335026542975744\n",
      "for estimate total_UPDRS\n",
      "Average CV Score:  0.24337898590470458 with 5 of CV Sores used\n",
      "test set R^2 0.2534960980751807\n",
      "init auto with, M =  20\n",
      "for estimate motor_UPDRS\n",
      "Average CV Score:  0.21985807075978653 with 5 of CV Sores used\n",
      "test set R^2 0.18919503307962438\n",
      "for estimate total_UPDRS\n",
      "Average CV Score:  0.24872977787494044 with 5 of CV Sores used\n",
      "test set R^2 0.2319781772268893\n",
      "init pca with, M =  5\n",
      "for estimate motor_UPDRS\n",
      "Average CV Score:  0.1877139516435577 with 5 of CV Sores used\n",
      "test set R^2 0.1780394488401561\n",
      "for estimate total_UPDRS\n",
      "Average CV Score:  0.19909758854864018 with 5 of CV Sores used\n",
      "test set R^2 0.1835486358677555\n",
      "init pca with, M =  10\n",
      "for estimate motor_UPDRS\n",
      "Average CV Score:  0.1886386683186831 with 5 of CV Sores used\n",
      "test set R^2 0.20915696772476333\n",
      "for estimate total_UPDRS\n",
      "Average CV Score:  0.2352874581377497 with 5 of CV Sores used\n",
      "test set R^2 0.243911580893037\n",
      "init pca with, M =  15\n",
      "for estimate motor_UPDRS\n",
      "Average CV Score:  0.20630606279341163 with 5 of CV Sores used\n",
      "test set R^2 0.2065821804915875\n",
      "for estimate total_UPDRS\n",
      "Average CV Score:  0.24007733934046085 with 5 of CV Sores used\n",
      "test set R^2 0.24371251810873018\n",
      "init pca with, M =  20\n",
      "for estimate motor_UPDRS\n",
      "Average CV Score:  0.20009785070836933 with 5 of CV Sores used\n",
      "test set R^2 0.22708404218349276\n",
      "for estimate total_UPDRS\n",
      "Average CV Score:  0.23700415109114506 with 5 of CV Sores used\n",
      "test set R^2 0.2638420191308676\n"
     ]
    }
   ],
   "source": [
    "init = ['auto', 'pca']\n",
    "p = len(feat)\n",
    "M = [5,10,15, p]\n",
    "\n",
    "for i in init:\n",
    "    for j in M:\n",
    "        print('init', i,'with, M = ',j)\n",
    "        ML(i,j)"
   ]
  },
  {
   "cell_type": "markdown",
   "metadata": {},
   "source": [
    "**Observation:**\n",
    "> We can find out   \n",
    "\n",
    "> for estimate motor_UPDRS, with init: pca with, M = 20 is the best combiination      \n",
    "Average CV Score:  0.20009785070836933 with 5 of CV Sores used     \n",
    "test set R^2 0.22708404218349276     \n",
    "     \n",
    "          \n",
    "> for estimate total_UPDRS, with init: pca with, M = 20 is the best combiination     \n",
    "Average CV Score:  0.23700415109114506 with 5 of CV Sores used     \n",
    "test set R^2 0.2638420191308676     "
   ]
  },
  {
   "cell_type": "markdown",
   "metadata": {},
   "source": [
    "## 4(c)"
   ]
  },
  {
   "cell_type": "code",
   "execution_count": 19,
   "metadata": {},
   "outputs": [],
   "source": [
    "# https://scikit-learn.org/stable/modules/neural_networks_supervised.html\n",
    "# https://stats.stackexchange.com/questions/338255/what-is-effect-of-increasing-number-of-hidden-layers-in-a-feed-forward-nn\n",
    "\n",
    "def MLPR_withoutearlystop(i,j,k,l):\n",
    "    #print('for estimate motor_UPDRS')\n",
    "    regr1 = MLPRegressor(hidden_layer_sizes = i, activation = j, solver = k, alpha = l, max_iter=6000)\n",
    "    X_train_mo, X_test_mo, y_train_mo, y_test_mo = train_test_split(df_X, df_mo, test_size=0.3)\n",
    "    regr1 = regr1.fit(X_train_mo, y_train_mo)\n",
    "    # print('the training set R^2', regr1.score(X_train_mo, y_train_mo))\n",
    "    # print('the test set R^2',regr1.score(X_test_mo,y_test_mo))\n",
    "\n",
    "\n",
    "    #print('for estimate total_UPDRS')\n",
    "    regr2 = MLPRegressor(hidden_layer_sizes = i, activation = j, solver = k, alpha = l, max_iter=6000)\n",
    "    X_train_to, X_test_to, y_train_to, y_test_to = train_test_split(df_X, df_to, test_size=0.3)\n",
    "    regr2 = regr2.fit(X_train_to, y_train_to)\n",
    "    # print('the training set R^2',regr2.score(X_train_to, y_train_to))\n",
    "    # print('the test set R^2',regr2.score(X_test_to,y_test_to))\n",
    "\n",
    "    return regr1.score(X_train_mo, y_train_mo), regr1.score(X_test_mo,y_test_mo), regr2.score(X_train_to, y_train_to), regr2.score(X_test_to,y_test_to)"
   ]
  },
  {
   "cell_type": "code",
   "execution_count": 20,
   "metadata": {},
   "outputs": [
    {
     "name": "stdout",
     "output_type": "stream",
     "text": [
      "hidden_layer_size = 50 ,activation = identity ,solver = lbfgs ,alpha = 0.001\n",
      "hidden_layer_size = 50 ,activation = identity ,solver = lbfgs ,alpha = 0.01\n",
      "hidden_layer_size = 50 ,activation = identity ,solver = lbfgs ,alpha = 0.1\n",
      "hidden_layer_size = 50 ,activation = identity ,solver = lbfgs ,alpha = 1.0\n",
      "hidden_layer_size = 50 ,activation = identity ,solver = lbfgs ,alpha = 10.0\n",
      "hidden_layer_size = 50 ,activation = identity ,solver = lbfgs ,alpha = 100.0\n",
      "hidden_layer_size = 50 ,activation = identity ,solver = lbfgs ,alpha = 1000.0\n",
      "hidden_layer_size = 50 ,activation = identity ,solver = sgd ,alpha = 0.001\n",
      "hidden_layer_size = 50 ,activation = identity ,solver = sgd ,alpha = 0.01\n",
      "hidden_layer_size = 50 ,activation = identity ,solver = sgd ,alpha = 0.1\n",
      "hidden_layer_size = 50 ,activation = identity ,solver = sgd ,alpha = 1.0\n",
      "hidden_layer_size = 50 ,activation = identity ,solver = sgd ,alpha = 10.0\n",
      "hidden_layer_size = 50 ,activation = identity ,solver = sgd ,alpha = 100.0\n",
      "hidden_layer_size = 50 ,activation = identity ,solver = sgd ,alpha = 1000.0\n",
      "hidden_layer_size = 50 ,activation = identity ,solver = adam ,alpha = 0.001\n",
      "hidden_layer_size = 50 ,activation = identity ,solver = adam ,alpha = 0.01\n",
      "hidden_layer_size = 50 ,activation = identity ,solver = adam ,alpha = 0.1\n",
      "hidden_layer_size = 50 ,activation = identity ,solver = adam ,alpha = 1.0\n",
      "hidden_layer_size = 50 ,activation = identity ,solver = adam ,alpha = 10.0\n",
      "hidden_layer_size = 50 ,activation = identity ,solver = adam ,alpha = 100.0\n",
      "hidden_layer_size = 50 ,activation = identity ,solver = adam ,alpha = 1000.0\n",
      "hidden_layer_size = 50 ,activation = logistic ,solver = lbfgs ,alpha = 0.001\n"
     ]
    },
    {
     "name": "stderr",
     "output_type": "stream",
     "text": [
      "/Users/amity_wen/anaconda3/lib/python3.10/site-packages/sklearn/neural_network/_multilayer_perceptron.py:541: ConvergenceWarning: lbfgs failed to converge (status=1):\n",
      "STOP: TOTAL NO. of ITERATIONS REACHED LIMIT.\n",
      "\n",
      "Increase the number of iterations (max_iter) or scale the data as shown in:\n",
      "    https://scikit-learn.org/stable/modules/preprocessing.html\n",
      "  self.n_iter_ = _check_optimize_result(\"lbfgs\", opt_res, self.max_iter)\n",
      "/Users/amity_wen/anaconda3/lib/python3.10/site-packages/sklearn/neural_network/_multilayer_perceptron.py:541: ConvergenceWarning: lbfgs failed to converge (status=1):\n",
      "STOP: TOTAL NO. of ITERATIONS REACHED LIMIT.\n",
      "\n",
      "Increase the number of iterations (max_iter) or scale the data as shown in:\n",
      "    https://scikit-learn.org/stable/modules/preprocessing.html\n",
      "  self.n_iter_ = _check_optimize_result(\"lbfgs\", opt_res, self.max_iter)\n"
     ]
    },
    {
     "name": "stdout",
     "output_type": "stream",
     "text": [
      "hidden_layer_size = 50 ,activation = logistic ,solver = lbfgs ,alpha = 0.01\n"
     ]
    },
    {
     "name": "stderr",
     "output_type": "stream",
     "text": [
      "/Users/amity_wen/anaconda3/lib/python3.10/site-packages/sklearn/neural_network/_multilayer_perceptron.py:541: ConvergenceWarning: lbfgs failed to converge (status=1):\n",
      "STOP: TOTAL NO. of ITERATIONS REACHED LIMIT.\n",
      "\n",
      "Increase the number of iterations (max_iter) or scale the data as shown in:\n",
      "    https://scikit-learn.org/stable/modules/preprocessing.html\n",
      "  self.n_iter_ = _check_optimize_result(\"lbfgs\", opt_res, self.max_iter)\n",
      "/Users/amity_wen/anaconda3/lib/python3.10/site-packages/sklearn/neural_network/_multilayer_perceptron.py:541: ConvergenceWarning: lbfgs failed to converge (status=1):\n",
      "STOP: TOTAL NO. of ITERATIONS REACHED LIMIT.\n",
      "\n",
      "Increase the number of iterations (max_iter) or scale the data as shown in:\n",
      "    https://scikit-learn.org/stable/modules/preprocessing.html\n",
      "  self.n_iter_ = _check_optimize_result(\"lbfgs\", opt_res, self.max_iter)\n"
     ]
    },
    {
     "name": "stdout",
     "output_type": "stream",
     "text": [
      "hidden_layer_size = 50 ,activation = logistic ,solver = lbfgs ,alpha = 0.1\n"
     ]
    },
    {
     "name": "stderr",
     "output_type": "stream",
     "text": [
      "/Users/amity_wen/anaconda3/lib/python3.10/site-packages/sklearn/neural_network/_multilayer_perceptron.py:541: ConvergenceWarning: lbfgs failed to converge (status=1):\n",
      "STOP: TOTAL NO. of ITERATIONS REACHED LIMIT.\n",
      "\n",
      "Increase the number of iterations (max_iter) or scale the data as shown in:\n",
      "    https://scikit-learn.org/stable/modules/preprocessing.html\n",
      "  self.n_iter_ = _check_optimize_result(\"lbfgs\", opt_res, self.max_iter)\n",
      "/Users/amity_wen/anaconda3/lib/python3.10/site-packages/sklearn/neural_network/_multilayer_perceptron.py:541: ConvergenceWarning: lbfgs failed to converge (status=1):\n",
      "STOP: TOTAL NO. of ITERATIONS REACHED LIMIT.\n",
      "\n",
      "Increase the number of iterations (max_iter) or scale the data as shown in:\n",
      "    https://scikit-learn.org/stable/modules/preprocessing.html\n",
      "  self.n_iter_ = _check_optimize_result(\"lbfgs\", opt_res, self.max_iter)\n"
     ]
    },
    {
     "name": "stdout",
     "output_type": "stream",
     "text": [
      "hidden_layer_size = 50 ,activation = logistic ,solver = lbfgs ,alpha = 1.0\n"
     ]
    },
    {
     "name": "stderr",
     "output_type": "stream",
     "text": [
      "/Users/amity_wen/anaconda3/lib/python3.10/site-packages/sklearn/neural_network/_multilayer_perceptron.py:541: ConvergenceWarning: lbfgs failed to converge (status=1):\n",
      "STOP: TOTAL NO. of ITERATIONS REACHED LIMIT.\n",
      "\n",
      "Increase the number of iterations (max_iter) or scale the data as shown in:\n",
      "    https://scikit-learn.org/stable/modules/preprocessing.html\n",
      "  self.n_iter_ = _check_optimize_result(\"lbfgs\", opt_res, self.max_iter)\n",
      "/Users/amity_wen/anaconda3/lib/python3.10/site-packages/sklearn/neural_network/_multilayer_perceptron.py:541: ConvergenceWarning: lbfgs failed to converge (status=1):\n",
      "STOP: TOTAL NO. of ITERATIONS REACHED LIMIT.\n",
      "\n",
      "Increase the number of iterations (max_iter) or scale the data as shown in:\n",
      "    https://scikit-learn.org/stable/modules/preprocessing.html\n",
      "  self.n_iter_ = _check_optimize_result(\"lbfgs\", opt_res, self.max_iter)\n"
     ]
    },
    {
     "name": "stdout",
     "output_type": "stream",
     "text": [
      "hidden_layer_size = 50 ,activation = logistic ,solver = lbfgs ,alpha = 10.0\n",
      "hidden_layer_size = 50 ,activation = logistic ,solver = lbfgs ,alpha = 100.0\n",
      "hidden_layer_size = 50 ,activation = logistic ,solver = lbfgs ,alpha = 1000.0\n",
      "hidden_layer_size = 50 ,activation = logistic ,solver = sgd ,alpha = 0.001\n",
      "hidden_layer_size = 50 ,activation = logistic ,solver = sgd ,alpha = 0.01\n",
      "hidden_layer_size = 50 ,activation = logistic ,solver = sgd ,alpha = 0.1\n",
      "hidden_layer_size = 50 ,activation = logistic ,solver = sgd ,alpha = 1.0\n",
      "hidden_layer_size = 50 ,activation = logistic ,solver = sgd ,alpha = 10.0\n",
      "hidden_layer_size = 50 ,activation = logistic ,solver = sgd ,alpha = 100.0\n",
      "hidden_layer_size = 50 ,activation = logistic ,solver = sgd ,alpha = 1000.0\n",
      "hidden_layer_size = 50 ,activation = logistic ,solver = adam ,alpha = 0.001\n",
      "hidden_layer_size = 50 ,activation = logistic ,solver = adam ,alpha = 0.01\n",
      "hidden_layer_size = 50 ,activation = logistic ,solver = adam ,alpha = 0.1\n",
      "hidden_layer_size = 50 ,activation = logistic ,solver = adam ,alpha = 1.0\n",
      "hidden_layer_size = 50 ,activation = logistic ,solver = adam ,alpha = 10.0\n",
      "hidden_layer_size = 50 ,activation = logistic ,solver = adam ,alpha = 100.0\n",
      "hidden_layer_size = 50 ,activation = logistic ,solver = adam ,alpha = 1000.0\n",
      "hidden_layer_size = 50 ,activation = tanh ,solver = lbfgs ,alpha = 0.001\n"
     ]
    },
    {
     "name": "stderr",
     "output_type": "stream",
     "text": [
      "/Users/amity_wen/anaconda3/lib/python3.10/site-packages/sklearn/neural_network/_multilayer_perceptron.py:541: ConvergenceWarning: lbfgs failed to converge (status=1):\n",
      "STOP: TOTAL NO. of ITERATIONS REACHED LIMIT.\n",
      "\n",
      "Increase the number of iterations (max_iter) or scale the data as shown in:\n",
      "    https://scikit-learn.org/stable/modules/preprocessing.html\n",
      "  self.n_iter_ = _check_optimize_result(\"lbfgs\", opt_res, self.max_iter)\n",
      "/Users/amity_wen/anaconda3/lib/python3.10/site-packages/sklearn/neural_network/_multilayer_perceptron.py:541: ConvergenceWarning: lbfgs failed to converge (status=1):\n",
      "STOP: TOTAL NO. of ITERATIONS REACHED LIMIT.\n",
      "\n",
      "Increase the number of iterations (max_iter) or scale the data as shown in:\n",
      "    https://scikit-learn.org/stable/modules/preprocessing.html\n",
      "  self.n_iter_ = _check_optimize_result(\"lbfgs\", opt_res, self.max_iter)\n"
     ]
    },
    {
     "name": "stdout",
     "output_type": "stream",
     "text": [
      "hidden_layer_size = 50 ,activation = tanh ,solver = lbfgs ,alpha = 0.01\n"
     ]
    },
    {
     "name": "stderr",
     "output_type": "stream",
     "text": [
      "/Users/amity_wen/anaconda3/lib/python3.10/site-packages/sklearn/neural_network/_multilayer_perceptron.py:541: ConvergenceWarning: lbfgs failed to converge (status=1):\n",
      "STOP: TOTAL NO. of ITERATIONS REACHED LIMIT.\n",
      "\n",
      "Increase the number of iterations (max_iter) or scale the data as shown in:\n",
      "    https://scikit-learn.org/stable/modules/preprocessing.html\n",
      "  self.n_iter_ = _check_optimize_result(\"lbfgs\", opt_res, self.max_iter)\n",
      "/Users/amity_wen/anaconda3/lib/python3.10/site-packages/sklearn/neural_network/_multilayer_perceptron.py:541: ConvergenceWarning: lbfgs failed to converge (status=1):\n",
      "STOP: TOTAL NO. of ITERATIONS REACHED LIMIT.\n",
      "\n",
      "Increase the number of iterations (max_iter) or scale the data as shown in:\n",
      "    https://scikit-learn.org/stable/modules/preprocessing.html\n",
      "  self.n_iter_ = _check_optimize_result(\"lbfgs\", opt_res, self.max_iter)\n"
     ]
    },
    {
     "name": "stdout",
     "output_type": "stream",
     "text": [
      "hidden_layer_size = 50 ,activation = tanh ,solver = lbfgs ,alpha = 0.1\n"
     ]
    },
    {
     "name": "stderr",
     "output_type": "stream",
     "text": [
      "/Users/amity_wen/anaconda3/lib/python3.10/site-packages/sklearn/neural_network/_multilayer_perceptron.py:541: ConvergenceWarning: lbfgs failed to converge (status=1):\n",
      "STOP: TOTAL NO. of ITERATIONS REACHED LIMIT.\n",
      "\n",
      "Increase the number of iterations (max_iter) or scale the data as shown in:\n",
      "    https://scikit-learn.org/stable/modules/preprocessing.html\n",
      "  self.n_iter_ = _check_optimize_result(\"lbfgs\", opt_res, self.max_iter)\n",
      "/Users/amity_wen/anaconda3/lib/python3.10/site-packages/sklearn/neural_network/_multilayer_perceptron.py:541: ConvergenceWarning: lbfgs failed to converge (status=1):\n",
      "STOP: TOTAL NO. of ITERATIONS REACHED LIMIT.\n",
      "\n",
      "Increase the number of iterations (max_iter) or scale the data as shown in:\n",
      "    https://scikit-learn.org/stable/modules/preprocessing.html\n",
      "  self.n_iter_ = _check_optimize_result(\"lbfgs\", opt_res, self.max_iter)\n"
     ]
    },
    {
     "name": "stdout",
     "output_type": "stream",
     "text": [
      "hidden_layer_size = 50 ,activation = tanh ,solver = lbfgs ,alpha = 1.0\n"
     ]
    },
    {
     "name": "stderr",
     "output_type": "stream",
     "text": [
      "/Users/amity_wen/anaconda3/lib/python3.10/site-packages/sklearn/neural_network/_multilayer_perceptron.py:541: ConvergenceWarning: lbfgs failed to converge (status=1):\n",
      "STOP: TOTAL NO. of ITERATIONS REACHED LIMIT.\n",
      "\n",
      "Increase the number of iterations (max_iter) or scale the data as shown in:\n",
      "    https://scikit-learn.org/stable/modules/preprocessing.html\n",
      "  self.n_iter_ = _check_optimize_result(\"lbfgs\", opt_res, self.max_iter)\n",
      "/Users/amity_wen/anaconda3/lib/python3.10/site-packages/sklearn/neural_network/_multilayer_perceptron.py:541: ConvergenceWarning: lbfgs failed to converge (status=1):\n",
      "STOP: TOTAL NO. of ITERATIONS REACHED LIMIT.\n",
      "\n",
      "Increase the number of iterations (max_iter) or scale the data as shown in:\n",
      "    https://scikit-learn.org/stable/modules/preprocessing.html\n",
      "  self.n_iter_ = _check_optimize_result(\"lbfgs\", opt_res, self.max_iter)\n"
     ]
    },
    {
     "name": "stdout",
     "output_type": "stream",
     "text": [
      "hidden_layer_size = 50 ,activation = tanh ,solver = lbfgs ,alpha = 10.0\n"
     ]
    },
    {
     "name": "stderr",
     "output_type": "stream",
     "text": [
      "/Users/amity_wen/anaconda3/lib/python3.10/site-packages/sklearn/neural_network/_multilayer_perceptron.py:541: ConvergenceWarning: lbfgs failed to converge (status=1):\n",
      "STOP: TOTAL NO. of ITERATIONS REACHED LIMIT.\n",
      "\n",
      "Increase the number of iterations (max_iter) or scale the data as shown in:\n",
      "    https://scikit-learn.org/stable/modules/preprocessing.html\n",
      "  self.n_iter_ = _check_optimize_result(\"lbfgs\", opt_res, self.max_iter)\n"
     ]
    },
    {
     "name": "stdout",
     "output_type": "stream",
     "text": [
      "hidden_layer_size = 50 ,activation = tanh ,solver = lbfgs ,alpha = 100.0\n",
      "hidden_layer_size = 50 ,activation = tanh ,solver = lbfgs ,alpha = 1000.0\n",
      "hidden_layer_size = 50 ,activation = tanh ,solver = sgd ,alpha = 0.001\n",
      "hidden_layer_size = 50 ,activation = tanh ,solver = sgd ,alpha = 0.01\n",
      "hidden_layer_size = 50 ,activation = tanh ,solver = sgd ,alpha = 0.1\n",
      "hidden_layer_size = 50 ,activation = tanh ,solver = sgd ,alpha = 1.0\n",
      "hidden_layer_size = 50 ,activation = tanh ,solver = sgd ,alpha = 10.0\n",
      "hidden_layer_size = 50 ,activation = tanh ,solver = sgd ,alpha = 100.0\n",
      "hidden_layer_size = 50 ,activation = tanh ,solver = sgd ,alpha = 1000.0\n",
      "hidden_layer_size = 50 ,activation = tanh ,solver = adam ,alpha = 0.001\n",
      "hidden_layer_size = 50 ,activation = tanh ,solver = adam ,alpha = 0.01\n",
      "hidden_layer_size = 50 ,activation = tanh ,solver = adam ,alpha = 0.1\n",
      "hidden_layer_size = 50 ,activation = tanh ,solver = adam ,alpha = 1.0\n",
      "hidden_layer_size = 50 ,activation = tanh ,solver = adam ,alpha = 10.0\n",
      "hidden_layer_size = 50 ,activation = tanh ,solver = adam ,alpha = 100.0\n",
      "hidden_layer_size = 50 ,activation = tanh ,solver = adam ,alpha = 1000.0\n",
      "hidden_layer_size = 50 ,activation = relu ,solver = lbfgs ,alpha = 0.001\n"
     ]
    },
    {
     "name": "stderr",
     "output_type": "stream",
     "text": [
      "/Users/amity_wen/anaconda3/lib/python3.10/site-packages/sklearn/neural_network/_multilayer_perceptron.py:541: ConvergenceWarning: lbfgs failed to converge (status=1):\n",
      "STOP: TOTAL NO. of ITERATIONS REACHED LIMIT.\n",
      "\n",
      "Increase the number of iterations (max_iter) or scale the data as shown in:\n",
      "    https://scikit-learn.org/stable/modules/preprocessing.html\n",
      "  self.n_iter_ = _check_optimize_result(\"lbfgs\", opt_res, self.max_iter)\n",
      "/Users/amity_wen/anaconda3/lib/python3.10/site-packages/sklearn/neural_network/_multilayer_perceptron.py:541: ConvergenceWarning: lbfgs failed to converge (status=1):\n",
      "STOP: TOTAL NO. of ITERATIONS REACHED LIMIT.\n",
      "\n",
      "Increase the number of iterations (max_iter) or scale the data as shown in:\n",
      "    https://scikit-learn.org/stable/modules/preprocessing.html\n",
      "  self.n_iter_ = _check_optimize_result(\"lbfgs\", opt_res, self.max_iter)\n"
     ]
    },
    {
     "name": "stdout",
     "output_type": "stream",
     "text": [
      "hidden_layer_size = 50 ,activation = relu ,solver = lbfgs ,alpha = 0.01\n"
     ]
    },
    {
     "name": "stderr",
     "output_type": "stream",
     "text": [
      "/Users/amity_wen/anaconda3/lib/python3.10/site-packages/sklearn/neural_network/_multilayer_perceptron.py:541: ConvergenceWarning: lbfgs failed to converge (status=1):\n",
      "STOP: TOTAL NO. of ITERATIONS REACHED LIMIT.\n",
      "\n",
      "Increase the number of iterations (max_iter) or scale the data as shown in:\n",
      "    https://scikit-learn.org/stable/modules/preprocessing.html\n",
      "  self.n_iter_ = _check_optimize_result(\"lbfgs\", opt_res, self.max_iter)\n",
      "/Users/amity_wen/anaconda3/lib/python3.10/site-packages/sklearn/neural_network/_multilayer_perceptron.py:541: ConvergenceWarning: lbfgs failed to converge (status=1):\n",
      "STOP: TOTAL NO. of ITERATIONS REACHED LIMIT.\n",
      "\n",
      "Increase the number of iterations (max_iter) or scale the data as shown in:\n",
      "    https://scikit-learn.org/stable/modules/preprocessing.html\n",
      "  self.n_iter_ = _check_optimize_result(\"lbfgs\", opt_res, self.max_iter)\n"
     ]
    },
    {
     "name": "stdout",
     "output_type": "stream",
     "text": [
      "hidden_layer_size = 50 ,activation = relu ,solver = lbfgs ,alpha = 0.1\n"
     ]
    },
    {
     "name": "stderr",
     "output_type": "stream",
     "text": [
      "/Users/amity_wen/anaconda3/lib/python3.10/site-packages/sklearn/neural_network/_multilayer_perceptron.py:541: ConvergenceWarning: lbfgs failed to converge (status=1):\n",
      "STOP: TOTAL NO. of ITERATIONS REACHED LIMIT.\n",
      "\n",
      "Increase the number of iterations (max_iter) or scale the data as shown in:\n",
      "    https://scikit-learn.org/stable/modules/preprocessing.html\n",
      "  self.n_iter_ = _check_optimize_result(\"lbfgs\", opt_res, self.max_iter)\n",
      "/Users/amity_wen/anaconda3/lib/python3.10/site-packages/sklearn/neural_network/_multilayer_perceptron.py:541: ConvergenceWarning: lbfgs failed to converge (status=1):\n",
      "STOP: TOTAL NO. of ITERATIONS REACHED LIMIT.\n",
      "\n",
      "Increase the number of iterations (max_iter) or scale the data as shown in:\n",
      "    https://scikit-learn.org/stable/modules/preprocessing.html\n",
      "  self.n_iter_ = _check_optimize_result(\"lbfgs\", opt_res, self.max_iter)\n"
     ]
    },
    {
     "name": "stdout",
     "output_type": "stream",
     "text": [
      "hidden_layer_size = 50 ,activation = relu ,solver = lbfgs ,alpha = 1.0\n"
     ]
    },
    {
     "name": "stderr",
     "output_type": "stream",
     "text": [
      "/Users/amity_wen/anaconda3/lib/python3.10/site-packages/sklearn/neural_network/_multilayer_perceptron.py:541: ConvergenceWarning: lbfgs failed to converge (status=1):\n",
      "STOP: TOTAL NO. of ITERATIONS REACHED LIMIT.\n",
      "\n",
      "Increase the number of iterations (max_iter) or scale the data as shown in:\n",
      "    https://scikit-learn.org/stable/modules/preprocessing.html\n",
      "  self.n_iter_ = _check_optimize_result(\"lbfgs\", opt_res, self.max_iter)\n",
      "/Users/amity_wen/anaconda3/lib/python3.10/site-packages/sklearn/neural_network/_multilayer_perceptron.py:541: ConvergenceWarning: lbfgs failed to converge (status=1):\n",
      "STOP: TOTAL NO. of ITERATIONS REACHED LIMIT.\n",
      "\n",
      "Increase the number of iterations (max_iter) or scale the data as shown in:\n",
      "    https://scikit-learn.org/stable/modules/preprocessing.html\n",
      "  self.n_iter_ = _check_optimize_result(\"lbfgs\", opt_res, self.max_iter)\n"
     ]
    },
    {
     "name": "stdout",
     "output_type": "stream",
     "text": [
      "hidden_layer_size = 50 ,activation = relu ,solver = lbfgs ,alpha = 10.0\n"
     ]
    },
    {
     "name": "stderr",
     "output_type": "stream",
     "text": [
      "/Users/amity_wen/anaconda3/lib/python3.10/site-packages/sklearn/neural_network/_multilayer_perceptron.py:541: ConvergenceWarning: lbfgs failed to converge (status=1):\n",
      "STOP: TOTAL NO. of ITERATIONS REACHED LIMIT.\n",
      "\n",
      "Increase the number of iterations (max_iter) or scale the data as shown in:\n",
      "    https://scikit-learn.org/stable/modules/preprocessing.html\n",
      "  self.n_iter_ = _check_optimize_result(\"lbfgs\", opt_res, self.max_iter)\n",
      "/Users/amity_wen/anaconda3/lib/python3.10/site-packages/sklearn/neural_network/_multilayer_perceptron.py:541: ConvergenceWarning: lbfgs failed to converge (status=1):\n",
      "STOP: TOTAL NO. of ITERATIONS REACHED LIMIT.\n",
      "\n",
      "Increase the number of iterations (max_iter) or scale the data as shown in:\n",
      "    https://scikit-learn.org/stable/modules/preprocessing.html\n",
      "  self.n_iter_ = _check_optimize_result(\"lbfgs\", opt_res, self.max_iter)\n"
     ]
    },
    {
     "name": "stdout",
     "output_type": "stream",
     "text": [
      "hidden_layer_size = 50 ,activation = relu ,solver = lbfgs ,alpha = 100.0\n",
      "hidden_layer_size = 50 ,activation = relu ,solver = lbfgs ,alpha = 1000.0\n",
      "hidden_layer_size = 50 ,activation = relu ,solver = sgd ,alpha = 0.001\n",
      "hidden_layer_size = 50 ,activation = relu ,solver = sgd ,alpha = 0.01\n",
      "hidden_layer_size = 50 ,activation = relu ,solver = sgd ,alpha = 0.1\n",
      "hidden_layer_size = 50 ,activation = relu ,solver = sgd ,alpha = 1.0\n",
      "hidden_layer_size = 50 ,activation = relu ,solver = sgd ,alpha = 10.0\n",
      "hidden_layer_size = 50 ,activation = relu ,solver = sgd ,alpha = 100.0\n",
      "hidden_layer_size = 50 ,activation = relu ,solver = sgd ,alpha = 1000.0\n",
      "hidden_layer_size = 50 ,activation = relu ,solver = adam ,alpha = 0.001\n",
      "hidden_layer_size = 50 ,activation = relu ,solver = adam ,alpha = 0.01\n",
      "hidden_layer_size = 50 ,activation = relu ,solver = adam ,alpha = 0.1\n",
      "hidden_layer_size = 50 ,activation = relu ,solver = adam ,alpha = 1.0\n",
      "hidden_layer_size = 50 ,activation = relu ,solver = adam ,alpha = 10.0\n",
      "hidden_layer_size = 50 ,activation = relu ,solver = adam ,alpha = 100.0\n",
      "hidden_layer_size = 50 ,activation = relu ,solver = adam ,alpha = 1000.0\n",
      "hidden_layer_size = 100 ,activation = identity ,solver = lbfgs ,alpha = 0.001\n",
      "hidden_layer_size = 100 ,activation = identity ,solver = lbfgs ,alpha = 0.01\n",
      "hidden_layer_size = 100 ,activation = identity ,solver = lbfgs ,alpha = 0.1\n",
      "hidden_layer_size = 100 ,activation = identity ,solver = lbfgs ,alpha = 1.0\n",
      "hidden_layer_size = 100 ,activation = identity ,solver = lbfgs ,alpha = 10.0\n",
      "hidden_layer_size = 100 ,activation = identity ,solver = lbfgs ,alpha = 100.0\n",
      "hidden_layer_size = 100 ,activation = identity ,solver = lbfgs ,alpha = 1000.0\n",
      "hidden_layer_size = 100 ,activation = identity ,solver = sgd ,alpha = 0.001\n",
      "hidden_layer_size = 100 ,activation = identity ,solver = sgd ,alpha = 0.01\n",
      "hidden_layer_size = 100 ,activation = identity ,solver = sgd ,alpha = 0.1\n",
      "hidden_layer_size = 100 ,activation = identity ,solver = sgd ,alpha = 1.0\n",
      "hidden_layer_size = 100 ,activation = identity ,solver = sgd ,alpha = 10.0\n",
      "hidden_layer_size = 100 ,activation = identity ,solver = sgd ,alpha = 100.0\n",
      "hidden_layer_size = 100 ,activation = identity ,solver = sgd ,alpha = 1000.0\n",
      "hidden_layer_size = 100 ,activation = identity ,solver = adam ,alpha = 0.001\n",
      "hidden_layer_size = 100 ,activation = identity ,solver = adam ,alpha = 0.01\n",
      "hidden_layer_size = 100 ,activation = identity ,solver = adam ,alpha = 0.1\n",
      "hidden_layer_size = 100 ,activation = identity ,solver = adam ,alpha = 1.0\n",
      "hidden_layer_size = 100 ,activation = identity ,solver = adam ,alpha = 10.0\n",
      "hidden_layer_size = 100 ,activation = identity ,solver = adam ,alpha = 100.0\n",
      "hidden_layer_size = 100 ,activation = identity ,solver = adam ,alpha = 1000.0\n",
      "hidden_layer_size = 100 ,activation = logistic ,solver = lbfgs ,alpha = 0.001\n"
     ]
    },
    {
     "name": "stderr",
     "output_type": "stream",
     "text": [
      "/Users/amity_wen/anaconda3/lib/python3.10/site-packages/sklearn/neural_network/_multilayer_perceptron.py:541: ConvergenceWarning: lbfgs failed to converge (status=1):\n",
      "STOP: TOTAL NO. of ITERATIONS REACHED LIMIT.\n",
      "\n",
      "Increase the number of iterations (max_iter) or scale the data as shown in:\n",
      "    https://scikit-learn.org/stable/modules/preprocessing.html\n",
      "  self.n_iter_ = _check_optimize_result(\"lbfgs\", opt_res, self.max_iter)\n",
      "/Users/amity_wen/anaconda3/lib/python3.10/site-packages/sklearn/neural_network/_multilayer_perceptron.py:541: ConvergenceWarning: lbfgs failed to converge (status=1):\n",
      "STOP: TOTAL NO. of ITERATIONS REACHED LIMIT.\n",
      "\n",
      "Increase the number of iterations (max_iter) or scale the data as shown in:\n",
      "    https://scikit-learn.org/stable/modules/preprocessing.html\n",
      "  self.n_iter_ = _check_optimize_result(\"lbfgs\", opt_res, self.max_iter)\n"
     ]
    },
    {
     "name": "stdout",
     "output_type": "stream",
     "text": [
      "hidden_layer_size = 100 ,activation = logistic ,solver = lbfgs ,alpha = 0.01\n"
     ]
    },
    {
     "name": "stderr",
     "output_type": "stream",
     "text": [
      "/Users/amity_wen/anaconda3/lib/python3.10/site-packages/sklearn/neural_network/_multilayer_perceptron.py:541: ConvergenceWarning: lbfgs failed to converge (status=1):\n",
      "STOP: TOTAL NO. of ITERATIONS REACHED LIMIT.\n",
      "\n",
      "Increase the number of iterations (max_iter) or scale the data as shown in:\n",
      "    https://scikit-learn.org/stable/modules/preprocessing.html\n",
      "  self.n_iter_ = _check_optimize_result(\"lbfgs\", opt_res, self.max_iter)\n",
      "/Users/amity_wen/anaconda3/lib/python3.10/site-packages/sklearn/neural_network/_multilayer_perceptron.py:541: ConvergenceWarning: lbfgs failed to converge (status=1):\n",
      "STOP: TOTAL NO. of ITERATIONS REACHED LIMIT.\n",
      "\n",
      "Increase the number of iterations (max_iter) or scale the data as shown in:\n",
      "    https://scikit-learn.org/stable/modules/preprocessing.html\n",
      "  self.n_iter_ = _check_optimize_result(\"lbfgs\", opt_res, self.max_iter)\n"
     ]
    },
    {
     "name": "stdout",
     "output_type": "stream",
     "text": [
      "hidden_layer_size = 100 ,activation = logistic ,solver = lbfgs ,alpha = 0.1\n"
     ]
    },
    {
     "name": "stderr",
     "output_type": "stream",
     "text": [
      "/Users/amity_wen/anaconda3/lib/python3.10/site-packages/sklearn/neural_network/_multilayer_perceptron.py:541: ConvergenceWarning: lbfgs failed to converge (status=1):\n",
      "STOP: TOTAL NO. of ITERATIONS REACHED LIMIT.\n",
      "\n",
      "Increase the number of iterations (max_iter) or scale the data as shown in:\n",
      "    https://scikit-learn.org/stable/modules/preprocessing.html\n",
      "  self.n_iter_ = _check_optimize_result(\"lbfgs\", opt_res, self.max_iter)\n",
      "/Users/amity_wen/anaconda3/lib/python3.10/site-packages/sklearn/neural_network/_multilayer_perceptron.py:541: ConvergenceWarning: lbfgs failed to converge (status=1):\n",
      "STOP: TOTAL NO. of ITERATIONS REACHED LIMIT.\n",
      "\n",
      "Increase the number of iterations (max_iter) or scale the data as shown in:\n",
      "    https://scikit-learn.org/stable/modules/preprocessing.html\n",
      "  self.n_iter_ = _check_optimize_result(\"lbfgs\", opt_res, self.max_iter)\n"
     ]
    },
    {
     "name": "stdout",
     "output_type": "stream",
     "text": [
      "hidden_layer_size = 100 ,activation = logistic ,solver = lbfgs ,alpha = 1.0\n"
     ]
    },
    {
     "name": "stderr",
     "output_type": "stream",
     "text": [
      "/Users/amity_wen/anaconda3/lib/python3.10/site-packages/sklearn/neural_network/_multilayer_perceptron.py:541: ConvergenceWarning: lbfgs failed to converge (status=1):\n",
      "STOP: TOTAL NO. of ITERATIONS REACHED LIMIT.\n",
      "\n",
      "Increase the number of iterations (max_iter) or scale the data as shown in:\n",
      "    https://scikit-learn.org/stable/modules/preprocessing.html\n",
      "  self.n_iter_ = _check_optimize_result(\"lbfgs\", opt_res, self.max_iter)\n",
      "/Users/amity_wen/anaconda3/lib/python3.10/site-packages/sklearn/neural_network/_multilayer_perceptron.py:541: ConvergenceWarning: lbfgs failed to converge (status=1):\n",
      "STOP: TOTAL NO. of ITERATIONS REACHED LIMIT.\n",
      "\n",
      "Increase the number of iterations (max_iter) or scale the data as shown in:\n",
      "    https://scikit-learn.org/stable/modules/preprocessing.html\n",
      "  self.n_iter_ = _check_optimize_result(\"lbfgs\", opt_res, self.max_iter)\n"
     ]
    },
    {
     "name": "stdout",
     "output_type": "stream",
     "text": [
      "hidden_layer_size = 100 ,activation = logistic ,solver = lbfgs ,alpha = 10.0\n"
     ]
    },
    {
     "name": "stderr",
     "output_type": "stream",
     "text": [
      "/Users/amity_wen/anaconda3/lib/python3.10/site-packages/sklearn/neural_network/_multilayer_perceptron.py:541: ConvergenceWarning: lbfgs failed to converge (status=1):\n",
      "STOP: TOTAL NO. of ITERATIONS REACHED LIMIT.\n",
      "\n",
      "Increase the number of iterations (max_iter) or scale the data as shown in:\n",
      "    https://scikit-learn.org/stable/modules/preprocessing.html\n",
      "  self.n_iter_ = _check_optimize_result(\"lbfgs\", opt_res, self.max_iter)\n"
     ]
    },
    {
     "name": "stdout",
     "output_type": "stream",
     "text": [
      "hidden_layer_size = 100 ,activation = logistic ,solver = lbfgs ,alpha = 100.0\n",
      "hidden_layer_size = 100 ,activation = logistic ,solver = lbfgs ,alpha = 1000.0\n",
      "hidden_layer_size = 100 ,activation = logistic ,solver = sgd ,alpha = 0.001\n",
      "hidden_layer_size = 100 ,activation = logistic ,solver = sgd ,alpha = 0.01\n",
      "hidden_layer_size = 100 ,activation = logistic ,solver = sgd ,alpha = 0.1\n",
      "hidden_layer_size = 100 ,activation = logistic ,solver = sgd ,alpha = 1.0\n",
      "hidden_layer_size = 100 ,activation = logistic ,solver = sgd ,alpha = 10.0\n",
      "hidden_layer_size = 100 ,activation = logistic ,solver = sgd ,alpha = 100.0\n",
      "hidden_layer_size = 100 ,activation = logistic ,solver = sgd ,alpha = 1000.0\n",
      "hidden_layer_size = 100 ,activation = logistic ,solver = adam ,alpha = 0.001\n",
      "hidden_layer_size = 100 ,activation = logistic ,solver = adam ,alpha = 0.01\n",
      "hidden_layer_size = 100 ,activation = logistic ,solver = adam ,alpha = 0.1\n",
      "hidden_layer_size = 100 ,activation = logistic ,solver = adam ,alpha = 1.0\n",
      "hidden_layer_size = 100 ,activation = logistic ,solver = adam ,alpha = 10.0\n",
      "hidden_layer_size = 100 ,activation = logistic ,solver = adam ,alpha = 100.0\n",
      "hidden_layer_size = 100 ,activation = logistic ,solver = adam ,alpha = 1000.0\n",
      "hidden_layer_size = 100 ,activation = tanh ,solver = lbfgs ,alpha = 0.001\n"
     ]
    },
    {
     "name": "stderr",
     "output_type": "stream",
     "text": [
      "/Users/amity_wen/anaconda3/lib/python3.10/site-packages/sklearn/neural_network/_multilayer_perceptron.py:541: ConvergenceWarning: lbfgs failed to converge (status=1):\n",
      "STOP: TOTAL NO. of ITERATIONS REACHED LIMIT.\n",
      "\n",
      "Increase the number of iterations (max_iter) or scale the data as shown in:\n",
      "    https://scikit-learn.org/stable/modules/preprocessing.html\n",
      "  self.n_iter_ = _check_optimize_result(\"lbfgs\", opt_res, self.max_iter)\n",
      "/Users/amity_wen/anaconda3/lib/python3.10/site-packages/sklearn/neural_network/_multilayer_perceptron.py:541: ConvergenceWarning: lbfgs failed to converge (status=1):\n",
      "STOP: TOTAL NO. of ITERATIONS REACHED LIMIT.\n",
      "\n",
      "Increase the number of iterations (max_iter) or scale the data as shown in:\n",
      "    https://scikit-learn.org/stable/modules/preprocessing.html\n",
      "  self.n_iter_ = _check_optimize_result(\"lbfgs\", opt_res, self.max_iter)\n"
     ]
    },
    {
     "name": "stdout",
     "output_type": "stream",
     "text": [
      "hidden_layer_size = 100 ,activation = tanh ,solver = lbfgs ,alpha = 0.01\n"
     ]
    },
    {
     "name": "stderr",
     "output_type": "stream",
     "text": [
      "/Users/amity_wen/anaconda3/lib/python3.10/site-packages/sklearn/neural_network/_multilayer_perceptron.py:541: ConvergenceWarning: lbfgs failed to converge (status=1):\n",
      "STOP: TOTAL NO. of ITERATIONS REACHED LIMIT.\n",
      "\n",
      "Increase the number of iterations (max_iter) or scale the data as shown in:\n",
      "    https://scikit-learn.org/stable/modules/preprocessing.html\n",
      "  self.n_iter_ = _check_optimize_result(\"lbfgs\", opt_res, self.max_iter)\n",
      "/Users/amity_wen/anaconda3/lib/python3.10/site-packages/sklearn/neural_network/_multilayer_perceptron.py:541: ConvergenceWarning: lbfgs failed to converge (status=1):\n",
      "STOP: TOTAL NO. of ITERATIONS REACHED LIMIT.\n",
      "\n",
      "Increase the number of iterations (max_iter) or scale the data as shown in:\n",
      "    https://scikit-learn.org/stable/modules/preprocessing.html\n",
      "  self.n_iter_ = _check_optimize_result(\"lbfgs\", opt_res, self.max_iter)\n"
     ]
    },
    {
     "name": "stdout",
     "output_type": "stream",
     "text": [
      "hidden_layer_size = 100 ,activation = tanh ,solver = lbfgs ,alpha = 0.1\n"
     ]
    },
    {
     "name": "stderr",
     "output_type": "stream",
     "text": [
      "/Users/amity_wen/anaconda3/lib/python3.10/site-packages/sklearn/neural_network/_multilayer_perceptron.py:541: ConvergenceWarning: lbfgs failed to converge (status=1):\n",
      "STOP: TOTAL NO. of ITERATIONS REACHED LIMIT.\n",
      "\n",
      "Increase the number of iterations (max_iter) or scale the data as shown in:\n",
      "    https://scikit-learn.org/stable/modules/preprocessing.html\n",
      "  self.n_iter_ = _check_optimize_result(\"lbfgs\", opt_res, self.max_iter)\n",
      "/Users/amity_wen/anaconda3/lib/python3.10/site-packages/sklearn/neural_network/_multilayer_perceptron.py:541: ConvergenceWarning: lbfgs failed to converge (status=1):\n",
      "STOP: TOTAL NO. of ITERATIONS REACHED LIMIT.\n",
      "\n",
      "Increase the number of iterations (max_iter) or scale the data as shown in:\n",
      "    https://scikit-learn.org/stable/modules/preprocessing.html\n",
      "  self.n_iter_ = _check_optimize_result(\"lbfgs\", opt_res, self.max_iter)\n"
     ]
    },
    {
     "name": "stdout",
     "output_type": "stream",
     "text": [
      "hidden_layer_size = 100 ,activation = tanh ,solver = lbfgs ,alpha = 1.0\n"
     ]
    },
    {
     "name": "stderr",
     "output_type": "stream",
     "text": [
      "/Users/amity_wen/anaconda3/lib/python3.10/site-packages/sklearn/neural_network/_multilayer_perceptron.py:541: ConvergenceWarning: lbfgs failed to converge (status=1):\n",
      "STOP: TOTAL NO. of ITERATIONS REACHED LIMIT.\n",
      "\n",
      "Increase the number of iterations (max_iter) or scale the data as shown in:\n",
      "    https://scikit-learn.org/stable/modules/preprocessing.html\n",
      "  self.n_iter_ = _check_optimize_result(\"lbfgs\", opt_res, self.max_iter)\n",
      "/Users/amity_wen/anaconda3/lib/python3.10/site-packages/sklearn/neural_network/_multilayer_perceptron.py:541: ConvergenceWarning: lbfgs failed to converge (status=1):\n",
      "STOP: TOTAL NO. of ITERATIONS REACHED LIMIT.\n",
      "\n",
      "Increase the number of iterations (max_iter) or scale the data as shown in:\n",
      "    https://scikit-learn.org/stable/modules/preprocessing.html\n",
      "  self.n_iter_ = _check_optimize_result(\"lbfgs\", opt_res, self.max_iter)\n"
     ]
    },
    {
     "name": "stdout",
     "output_type": "stream",
     "text": [
      "hidden_layer_size = 100 ,activation = tanh ,solver = lbfgs ,alpha = 10.0\n"
     ]
    },
    {
     "name": "stderr",
     "output_type": "stream",
     "text": [
      "/Users/amity_wen/anaconda3/lib/python3.10/site-packages/sklearn/neural_network/_multilayer_perceptron.py:541: ConvergenceWarning: lbfgs failed to converge (status=1):\n",
      "STOP: TOTAL NO. of ITERATIONS REACHED LIMIT.\n",
      "\n",
      "Increase the number of iterations (max_iter) or scale the data as shown in:\n",
      "    https://scikit-learn.org/stable/modules/preprocessing.html\n",
      "  self.n_iter_ = _check_optimize_result(\"lbfgs\", opt_res, self.max_iter)\n",
      "/Users/amity_wen/anaconda3/lib/python3.10/site-packages/sklearn/neural_network/_multilayer_perceptron.py:541: ConvergenceWarning: lbfgs failed to converge (status=1):\n",
      "STOP: TOTAL NO. of ITERATIONS REACHED LIMIT.\n",
      "\n",
      "Increase the number of iterations (max_iter) or scale the data as shown in:\n",
      "    https://scikit-learn.org/stable/modules/preprocessing.html\n",
      "  self.n_iter_ = _check_optimize_result(\"lbfgs\", opt_res, self.max_iter)\n"
     ]
    },
    {
     "name": "stdout",
     "output_type": "stream",
     "text": [
      "hidden_layer_size = 100 ,activation = tanh ,solver = lbfgs ,alpha = 100.0\n",
      "hidden_layer_size = 100 ,activation = tanh ,solver = lbfgs ,alpha = 1000.0\n",
      "hidden_layer_size = 100 ,activation = tanh ,solver = sgd ,alpha = 0.001\n",
      "hidden_layer_size = 100 ,activation = tanh ,solver = sgd ,alpha = 0.01\n",
      "hidden_layer_size = 100 ,activation = tanh ,solver = sgd ,alpha = 0.1\n",
      "hidden_layer_size = 100 ,activation = tanh ,solver = sgd ,alpha = 1.0\n",
      "hidden_layer_size = 100 ,activation = tanh ,solver = sgd ,alpha = 10.0\n",
      "hidden_layer_size = 100 ,activation = tanh ,solver = sgd ,alpha = 100.0\n",
      "hidden_layer_size = 100 ,activation = tanh ,solver = sgd ,alpha = 1000.0\n",
      "hidden_layer_size = 100 ,activation = tanh ,solver = adam ,alpha = 0.001\n",
      "hidden_layer_size = 100 ,activation = tanh ,solver = adam ,alpha = 0.01\n",
      "hidden_layer_size = 100 ,activation = tanh ,solver = adam ,alpha = 0.1\n",
      "hidden_layer_size = 100 ,activation = tanh ,solver = adam ,alpha = 1.0\n",
      "hidden_layer_size = 100 ,activation = tanh ,solver = adam ,alpha = 10.0\n",
      "hidden_layer_size = 100 ,activation = tanh ,solver = adam ,alpha = 100.0\n",
      "hidden_layer_size = 100 ,activation = tanh ,solver = adam ,alpha = 1000.0\n",
      "hidden_layer_size = 100 ,activation = relu ,solver = lbfgs ,alpha = 0.001\n"
     ]
    },
    {
     "name": "stderr",
     "output_type": "stream",
     "text": [
      "/Users/amity_wen/anaconda3/lib/python3.10/site-packages/sklearn/neural_network/_multilayer_perceptron.py:541: ConvergenceWarning: lbfgs failed to converge (status=1):\n",
      "STOP: TOTAL NO. of ITERATIONS REACHED LIMIT.\n",
      "\n",
      "Increase the number of iterations (max_iter) or scale the data as shown in:\n",
      "    https://scikit-learn.org/stable/modules/preprocessing.html\n",
      "  self.n_iter_ = _check_optimize_result(\"lbfgs\", opt_res, self.max_iter)\n",
      "/Users/amity_wen/anaconda3/lib/python3.10/site-packages/sklearn/neural_network/_multilayer_perceptron.py:541: ConvergenceWarning: lbfgs failed to converge (status=1):\n",
      "STOP: TOTAL NO. of ITERATIONS REACHED LIMIT.\n",
      "\n",
      "Increase the number of iterations (max_iter) or scale the data as shown in:\n",
      "    https://scikit-learn.org/stable/modules/preprocessing.html\n",
      "  self.n_iter_ = _check_optimize_result(\"lbfgs\", opt_res, self.max_iter)\n"
     ]
    },
    {
     "name": "stdout",
     "output_type": "stream",
     "text": [
      "hidden_layer_size = 100 ,activation = relu ,solver = lbfgs ,alpha = 0.01\n"
     ]
    },
    {
     "name": "stderr",
     "output_type": "stream",
     "text": [
      "/Users/amity_wen/anaconda3/lib/python3.10/site-packages/sklearn/neural_network/_multilayer_perceptron.py:541: ConvergenceWarning: lbfgs failed to converge (status=1):\n",
      "STOP: TOTAL NO. of ITERATIONS REACHED LIMIT.\n",
      "\n",
      "Increase the number of iterations (max_iter) or scale the data as shown in:\n",
      "    https://scikit-learn.org/stable/modules/preprocessing.html\n",
      "  self.n_iter_ = _check_optimize_result(\"lbfgs\", opt_res, self.max_iter)\n",
      "/Users/amity_wen/anaconda3/lib/python3.10/site-packages/sklearn/neural_network/_multilayer_perceptron.py:541: ConvergenceWarning: lbfgs failed to converge (status=1):\n",
      "STOP: TOTAL NO. of ITERATIONS REACHED LIMIT.\n",
      "\n",
      "Increase the number of iterations (max_iter) or scale the data as shown in:\n",
      "    https://scikit-learn.org/stable/modules/preprocessing.html\n",
      "  self.n_iter_ = _check_optimize_result(\"lbfgs\", opt_res, self.max_iter)\n"
     ]
    },
    {
     "name": "stdout",
     "output_type": "stream",
     "text": [
      "hidden_layer_size = 100 ,activation = relu ,solver = lbfgs ,alpha = 0.1\n"
     ]
    },
    {
     "name": "stderr",
     "output_type": "stream",
     "text": [
      "/Users/amity_wen/anaconda3/lib/python3.10/site-packages/sklearn/neural_network/_multilayer_perceptron.py:541: ConvergenceWarning: lbfgs failed to converge (status=1):\n",
      "STOP: TOTAL NO. of ITERATIONS REACHED LIMIT.\n",
      "\n",
      "Increase the number of iterations (max_iter) or scale the data as shown in:\n",
      "    https://scikit-learn.org/stable/modules/preprocessing.html\n",
      "  self.n_iter_ = _check_optimize_result(\"lbfgs\", opt_res, self.max_iter)\n",
      "/Users/amity_wen/anaconda3/lib/python3.10/site-packages/sklearn/neural_network/_multilayer_perceptron.py:541: ConvergenceWarning: lbfgs failed to converge (status=1):\n",
      "STOP: TOTAL NO. of ITERATIONS REACHED LIMIT.\n",
      "\n",
      "Increase the number of iterations (max_iter) or scale the data as shown in:\n",
      "    https://scikit-learn.org/stable/modules/preprocessing.html\n",
      "  self.n_iter_ = _check_optimize_result(\"lbfgs\", opt_res, self.max_iter)\n"
     ]
    },
    {
     "name": "stdout",
     "output_type": "stream",
     "text": [
      "hidden_layer_size = 100 ,activation = relu ,solver = lbfgs ,alpha = 1.0\n"
     ]
    },
    {
     "name": "stderr",
     "output_type": "stream",
     "text": [
      "/Users/amity_wen/anaconda3/lib/python3.10/site-packages/sklearn/neural_network/_multilayer_perceptron.py:541: ConvergenceWarning: lbfgs failed to converge (status=1):\n",
      "STOP: TOTAL NO. of ITERATIONS REACHED LIMIT.\n",
      "\n",
      "Increase the number of iterations (max_iter) or scale the data as shown in:\n",
      "    https://scikit-learn.org/stable/modules/preprocessing.html\n",
      "  self.n_iter_ = _check_optimize_result(\"lbfgs\", opt_res, self.max_iter)\n",
      "/Users/amity_wen/anaconda3/lib/python3.10/site-packages/sklearn/neural_network/_multilayer_perceptron.py:541: ConvergenceWarning: lbfgs failed to converge (status=1):\n",
      "STOP: TOTAL NO. of ITERATIONS REACHED LIMIT.\n",
      "\n",
      "Increase the number of iterations (max_iter) or scale the data as shown in:\n",
      "    https://scikit-learn.org/stable/modules/preprocessing.html\n",
      "  self.n_iter_ = _check_optimize_result(\"lbfgs\", opt_res, self.max_iter)\n"
     ]
    },
    {
     "name": "stdout",
     "output_type": "stream",
     "text": [
      "hidden_layer_size = 100 ,activation = relu ,solver = lbfgs ,alpha = 10.0\n"
     ]
    },
    {
     "name": "stderr",
     "output_type": "stream",
     "text": [
      "/Users/amity_wen/anaconda3/lib/python3.10/site-packages/sklearn/neural_network/_multilayer_perceptron.py:541: ConvergenceWarning: lbfgs failed to converge (status=1):\n",
      "STOP: TOTAL NO. of ITERATIONS REACHED LIMIT.\n",
      "\n",
      "Increase the number of iterations (max_iter) or scale the data as shown in:\n",
      "    https://scikit-learn.org/stable/modules/preprocessing.html\n",
      "  self.n_iter_ = _check_optimize_result(\"lbfgs\", opt_res, self.max_iter)\n"
     ]
    },
    {
     "name": "stdout",
     "output_type": "stream",
     "text": [
      "hidden_layer_size = 100 ,activation = relu ,solver = lbfgs ,alpha = 100.0\n",
      "hidden_layer_size = 100 ,activation = relu ,solver = lbfgs ,alpha = 1000.0\n",
      "hidden_layer_size = 100 ,activation = relu ,solver = sgd ,alpha = 0.001\n",
      "hidden_layer_size = 100 ,activation = relu ,solver = sgd ,alpha = 0.01\n",
      "hidden_layer_size = 100 ,activation = relu ,solver = sgd ,alpha = 0.1\n",
      "hidden_layer_size = 100 ,activation = relu ,solver = sgd ,alpha = 1.0\n",
      "hidden_layer_size = 100 ,activation = relu ,solver = sgd ,alpha = 10.0\n",
      "hidden_layer_size = 100 ,activation = relu ,solver = sgd ,alpha = 100.0\n",
      "hidden_layer_size = 100 ,activation = relu ,solver = sgd ,alpha = 1000.0\n",
      "hidden_layer_size = 100 ,activation = relu ,solver = adam ,alpha = 0.001\n",
      "hidden_layer_size = 100 ,activation = relu ,solver = adam ,alpha = 0.01\n",
      "hidden_layer_size = 100 ,activation = relu ,solver = adam ,alpha = 0.1\n",
      "hidden_layer_size = 100 ,activation = relu ,solver = adam ,alpha = 1.0\n",
      "hidden_layer_size = 100 ,activation = relu ,solver = adam ,alpha = 10.0\n",
      "hidden_layer_size = 100 ,activation = relu ,solver = adam ,alpha = 100.0\n",
      "hidden_layer_size = 100 ,activation = relu ,solver = adam ,alpha = 1000.0\n"
     ]
    }
   ],
   "source": [
    "ly_size = [50,100]\n",
    "activation = ['identity', 'logistic', 'tanh', 'relu']\n",
    "solver = ['lbfgs', 'sgd', 'adam']\n",
    "alpha = np.logspace(-3,3,7)\n",
    "df1 = pd.DataFrame(columns = ['mo_tr_score', 'mo_te_score', 'to_tr_score', 'to_te_score', 'ly_size', 'activation', 'solver', 'alpha'])\n",
    "\n",
    "for i in ly_size:\n",
    "    for j in activation:\n",
    "        for k in solver:\n",
    "            for l in alpha:\n",
    "                print('hidden_layer_size =', i, ',activation =', j, ',solver =', k, ',alpha =', l)\n",
    "                mo_tr_score, mo_te_score, to_tr_score, to_te_score = MLPR_withoutearlystop(i,j,k,l)\n",
    "                df1.loc[len(df1)] = [mo_tr_score, mo_te_score, to_tr_score, to_te_score, i, j, k, l]"
   ]
  },
  {
   "cell_type": "code",
   "execution_count": 34,
   "metadata": {},
   "outputs": [
    {
     "data": {
      "text/plain": [
       "<Axes: >"
      ]
     },
     "execution_count": 34,
     "metadata": {},
     "output_type": "execute_result"
    },
    {
     "data": {
      "image/png": "[encoded data removed]",
      "text/plain": [
       "<Figure size 640x480 with 1 Axes>"
      ]
     },
     "metadata": {},
     "output_type": "display_data"
    }
   ],
   "source": [
    "df1.plot(use_index = True, y = ['mo_tr_score', 'mo_te_score', 'to_tr_score', 'to_te_score'])"
   ]
  },
  {
   "cell_type": "code",
   "execution_count": 35,
   "metadata": {},
   "outputs": [
    {
     "data": {
      "text/plain": [
       "mo_tr_score    0.999765\n",
       "mo_te_score    0.997133\n",
       "to_tr_score    0.999746\n",
       "to_te_score    0.997073\n",
       "ly_size             100\n",
       "activation         tanh\n",
       "solver              sgd\n",
       "alpha            1000.0\n",
       "dtype: object"
      ]
     },
     "execution_count": 35,
     "metadata": {},
     "output_type": "execute_result"
    }
   ],
   "source": [
    "df1.max()"
   ]
  },
  {
   "cell_type": "code",
   "execution_count": 37,
   "metadata": {},
   "outputs": [
    {
     "data": {
      "text/html": [
       "<div>\n",
       "<style scoped>\n",
       "    .dataframe tbody tr th:only-of-type {\n",
       "        vertical-align: middle;\n",
       "    }\n",
       "\n",
       "    .dataframe tbody tr th {\n",
       "        vertical-align: top;\n",
       "    }\n",
       "\n",
       "    .dataframe thead th {\n",
       "        text-align: right;\n",
       "    }\n",
       "</style>\n",
       "<table border=\"1\" class=\"dataframe\">\n",
       "  <thead>\n",
       "    <tr style=\"text-align: right;\">\n",
       "      <th></th>\n",
       "      <th>mo_tr_score</th>\n",
       "      <th>mo_te_score</th>\n",
       "      <th>to_tr_score</th>\n",
       "      <th>to_te_score</th>\n",
       "      <th>ly_size</th>\n",
       "      <th>activation</th>\n",
       "      <th>solver</th>\n",
       "      <th>alpha</th>\n",
       "    </tr>\n",
       "  </thead>\n",
       "  <tbody>\n",
       "  </tbody>\n",
       "</table>\n",
       "</div>"
      ],
      "text/plain": [
       "Empty DataFrame\n",
       "Columns: [mo_tr_score, mo_te_score, to_tr_score, to_te_score, ly_size, activation, solver, alpha]\n",
       "Index: []"
      ]
     },
     "execution_count": 37,
     "metadata": {},
     "output_type": "execute_result"
    }
   ],
   "source": [
    "df1[df1['mo_te_score'] == 0.997133]"
   ]
  },
  {
   "cell_type": "code",
   "execution_count": null,
   "metadata": {},
   "outputs": [],
   "source": [
    "# https://scikit-learn.org/stable/modules/neural_networks_supervised.html\n",
    "# https://stats.stackexchange.com/questions/338255/what-is-effect-of-increasing-number-of-hidden-layers-in-a-feed-forward-nn\n",
    "\n",
    "\n",
    "print('for estimate motor_UPDRS')\n",
    "regr1 = MLPRegressor(n_layers_ = 1, hidden_layer_sizes = ?, activation = ?, solver = ?, alpha = ?, early_stopping = True)\n",
    "X_train_mo, X_test_mo, y_train_mo, y_test_mo = train_test_split(df_X, df_mo, test_size=0.3)\n",
    "regr1 = regr1.fit( X_train_mo, y_train_mo)\n",
    "print('the training set R^2', regr1.score(X_train_mo, y_train_mo))\n",
    "print('the test set R^2',regr1.score(X_test_mo,y_test_mo))\n",
    "\n",
    "\n",
    "print('for estimate total_UPDRS')\n",
    "regr2 = MLPRegressor(n_layers_ = 1, hidden_layer_sizes = ?, activation = ?, solver = ?, alpha = ?, early_stopping = True)\n",
    "X_train_to, X_test_to, y_train_to, y_test_to = train_test_split(df_X, df_to, test_size=0.3)\n",
    "regr2 = regr2.fit(X_train_to, y_train_to)\n",
    "print('the training set R^2',regr2.score(X_train_to, y_train_to))\n",
    "print('the test set R^2',regr2.score(X_test_to,y_test_to))"
   ]
  }
 ],
 "metadata": {
  "kernelspec": {
   "display_name": "base",
   "language": "python",
   "name": "python3"
  },
  "language_info": {
   "codemirror_mode": {
    "name": "ipython",
    "version": 3
   },
   "file_extension": ".py",
   "mimetype": "text/x-python",
   "name": "python",
   "nbconvert_exporter": "python",
   "pygments_lexer": "ipython3",
   "version": "3.10.9"
  },
  "orig_nbformat": 4
 },
 "nbformat": 4,
 "nbformat_minor": 2
}
